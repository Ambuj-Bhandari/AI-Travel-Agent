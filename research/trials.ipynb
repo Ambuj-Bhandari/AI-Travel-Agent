{
 "cells": [
  {
   "cell_type": "code",
   "execution_count": 6,
   "id": "a0aadaff",
   "metadata": {},
   "outputs": [
    {
     "name": "stdout",
     "output_type": "stream",
     "text": [
      "🛫\n"
     ]
    }
   ],
   "source": [
    "print('\\N{airplane departure}')"
   ]
  },
  {
   "cell_type": "code",
   "execution_count": null,
   "id": "f0c5dfee",
   "metadata": {},
   "outputs": [],
   "source": []
  }
 ],
 "metadata": {
  "kernelspec": {
   "display_name": "AI Travel Planner",
   "language": "python",
   "name": "python3"
  },
  "language_info": {
   "codemirror_mode": {
    "name": "ipython",
    "version": 3
   },
   "file_extension": ".py",
   "mimetype": "text/x-python",
   "name": "python",
   "nbconvert_exporter": "python",
   "pygments_lexer": "ipython3",
   "version": "3.12.11"
  }
 },
 "nbformat": 4,
 "nbformat_minor": 5
}
